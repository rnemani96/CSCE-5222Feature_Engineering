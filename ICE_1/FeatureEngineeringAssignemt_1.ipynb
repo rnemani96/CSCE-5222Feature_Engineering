{
 "cells": [
  {
   "cell_type": "markdown",
   "id": "e0ca0ba0",
   "metadata": {},
   "source": [
    "<h1><center>CSCE-5222 Feature Engineering</h1>"
   ]
  },
  {
   "cell_type": "markdown",
   "id": "1d756aa5",
   "metadata": {},
   "source": [
    "<h2><center>ICE-1 </h2>"
   ]
  },
  {
   "cell_type": "markdown",
   "id": "4fa33d2f",
   "metadata": {},
   "source": [
    "<h1>Imports</h1>"
   ]
  },
  {
   "cell_type": "code",
   "execution_count": 1,
   "id": "9c1cd180",
   "metadata": {},
   "outputs": [],
   "source": [
    "import pickle\n",
    "import pandas as pd\n",
    "import re\n",
    "import nltk\n",
    "from nltk.corpus import stopwords\n",
    "from nltk.stem import WordNetLemmatizer\n",
    "from sklearn.feature_extraction.text import TfidfVectorizer\n",
    "from sklearn.model_selection import train_test_split\n",
    "from sklearn.feature_selection import chi2\n",
    "import numpy as np\n",
    "import requests"
   ]
  },
  {
   "cell_type": "markdown",
   "id": "0bd22df0",
   "metadata": {},
   "source": [
    "<h3>Download punkt</h3>"
   ]
  },
  {
   "cell_type": "code",
   "execution_count": 2,
   "id": "adae794e",
   "metadata": {},
   "outputs": [
    {
     "name": "stdout",
     "output_type": "stream",
     "text": [
      "------------------------------------------------------------\n"
     ]
    },
    {
     "name": "stderr",
     "output_type": "stream",
     "text": [
      "[nltk_data] Downloading package punkt to C:\\Users\\RAJESH\n",
      "[nltk_data]     NEMANI\\AppData\\Roaming\\nltk_data...\n",
      "[nltk_data]   Package punkt is already up-to-date!\n",
      "[nltk_data] Downloading package wordnet to C:\\Users\\RAJESH\n",
      "[nltk_data]     NEMANI\\AppData\\Roaming\\nltk_data...\n",
      "[nltk_data]   Package wordnet is already up-to-date!\n"
     ]
    },
    {
     "data": {
      "text/plain": [
       "True"
      ]
     },
     "execution_count": 2,
     "metadata": {},
     "output_type": "execute_result"
    }
   ],
   "source": [
    "# Downloading punkt and wordnet from NLTK\n",
    "nltk.download('punkt')\n",
    "print(\"------------------------------------------------------------\")\n",
    "nltk.download('wordnet')"
   ]
  },
  {
   "cell_type": "markdown",
   "id": "e1480146",
   "metadata": {},
   "source": [
    "<h3> StopWords</h3>"
   ]
  },
  {
   "cell_type": "code",
   "execution_count": 3,
   "id": "7dc8c3e2",
   "metadata": {},
   "outputs": [
    {
     "name": "stderr",
     "output_type": "stream",
     "text": [
      "[nltk_data] Downloading package stopwords to C:\\Users\\RAJESH\n",
      "[nltk_data]     NEMANI\\AppData\\Roaming\\nltk_data...\n",
      "[nltk_data]   Package stopwords is already up-to-date!\n"
     ]
    },
    {
     "data": {
      "text/plain": [
       "True"
      ]
     },
     "execution_count": 3,
     "metadata": {},
     "output_type": "execute_result"
    }
   ],
   "source": [
    "# Downloading the stop words list\n",
    "nltk.download('stopwords')"
   ]
  },
  {
   "cell_type": "code",
   "execution_count": 29,
   "id": "b2114c55",
   "metadata": {},
   "outputs": [],
   "source": [
    "# Article Link\n",
    "#link = \"https://www.bbc.com/news/business-58390290\"\n",
    "link = \"https://www.sehinc.com/news/7-articles-about-autonomous-vehicles-every-official-should-read\""
   ]
  },
  {
   "cell_type": "markdown",
   "id": "60a9ad7e",
   "metadata": {},
   "source": [
    "<h3>WebScraping</h3>"
   ]
  },
  {
   "cell_type": "code",
   "execution_count": 30,
   "id": "05bf21c5",
   "metadata": {},
   "outputs": [],
   "source": [
    "page = requests.get(link)"
   ]
  },
  {
   "cell_type": "code",
   "execution_count": 31,
   "id": "bcfe928d",
   "metadata": {},
   "outputs": [],
   "source": [
    "from bs4 import BeautifulSoup\n",
    "soup = BeautifulSoup(page.content,'html.parser') #parsing the page content"
   ]
  },
  {
   "cell_type": "code",
   "execution_count": 32,
   "id": "c44149a0",
   "metadata": {},
   "outputs": [
    {
     "data": {
      "text/plain": [
       "<!DOCTYPE html>\n",
       "\n",
       "<html dir=\"ltr\" lang=\"en\" prefix=\"og: http://ogp.me/ns# content: http://purl.org/rss/1.0/modules/content/ dc: http://purl.org/dc/terms/ foaf: http://xmlns.com/foaf/0.1/ rdfs: http://www.w3.org/2000/01/rdf-schema# sioc: http://rdfs.org/sioc/ns# sioct: http://rdfs.org/sioc/types# skos: http://www.w3.org/2004/02/skos/core# xsd: http://www.w3.org/2001/XMLSchema#\">\n",
       "<head>\n",
       "<meta charset=\"utf-8\"/>\n",
       "<link href=\"https://www.sehinc.com/sites/default/files/seh__favicon.gif\" rel=\"shortcut icon\" type=\"image/gif\"/>\n",
       "<meta content=\"There are over three million articles about autonomous vehicles. Here are seven worthy of every official’s attention. The future is getting closer to the present every day as vehicle manufacturers and tech companies race to deliver autonomous vehicles to the masses. Some view this Jetsons-like future as the next wave of human advancement, while others are more skeptical.\" name=\"description\"/>\n",
       "<meta content=\"Drupal 7 (https://www.drupal.org)\" name=\"generator\"/>\n",
       "<link href=\"https://www.sehinc.com/news/7-articles-about-autonomous-vehicles-every-official-should-read\" rel=\"canonical\"/>\n",
       "<link href=\"https://www.sehinc.com/node/1355\" rel=\"shortlink\"/>\n",
       "<meta content=\"SEH®\" property=\"og:site_name\"/>\n",
       "<meta content=\"article\" property=\"og:type\"/>\n",
       "<meta content=\"7 Articles About Autonomous Vehicles Every Official Should Read\" property=\"og:title\"/>\n",
       "<meta content=\"https://www.sehinc.com/news/7-articles-about-autonomous-vehicles-every-official-should-read\" property=\"og:url\"/>\n",
       "<meta content=\"There are over three million articles about autonomous vehicles. Here are seven worthy of every official’s attention.  \" property=\"og:description\"/>\n",
       "<meta content=\"2019-05-31T09:01:43-05:00\" property=\"og:updated_time\"/>\n",
       "<meta content=\"http://www.sehinc.com/sites/default/files/image--preview--square/news/TH_Driverless_900x500.jpg\" property=\"og:image\"/>\n",
       "<meta content=\"http://www.sehinc.com/sites/default/files/file-attachments/news/TH_Driverless_900x500.jpg\" property=\"og:image:url\"/>\n",
       "<meta content=\"https://www.sehinc.com/sites/default/files/file-attachments/news/TH_Driverless_900x500.jpg\" property=\"og:image:secure_url\"/>\n",
       "<meta content=\"summary\" name=\"twitter:card\"/>\n",
       "<meta content=\"https://www.sehinc.com/news/7-articles-about-autonomous-vehicles-every-official-should-read\" name=\"twitter:url\"/>\n",
       "<meta content=\"7 Articles About Autonomous Vehicles Every Official Should Read\" name=\"twitter:title\"/>\n",
       "<meta content=\"There are over three million articles about autonomous vehicles. Here are seven worthy of every official’s attention. The future is getting closer to the present every day as vehicle manufacturers\" name=\"twitter:description\"/>\n",
       "<meta content=\"2017-06-08T07:38:02-05:00\" property=\"article:published_time\"/>\n",
       "<meta content=\"2019-05-31T09:01:43-05:00\" property=\"article:modified_time\"/>\n",
       "<meta content=\"7 Articles About Autonomous Vehicles Every Official Should Read\" name=\"dcterms.title\"/>\n",
       "<meta content=\"Marissa McManus\" name=\"dcterms.creator\"/>\n",
       "<meta content=\"There are over three million articles about autonomous vehicles. Here are seven worthy of every official’s attention. The future is getting closer to the present every day as vehicle manufacturers and tech companies race to deliver autonomous vehicles to the masses. Some view this Jetsons-like future as the next wave of human advancement, while others are more skeptical. Whatever your viewpoint, this emerging technology will impact our cities. Many are writing about autonomous vehicles, but what articles should we be paying attention to?\" name=\"dcterms.description\"/>\n",
       "<meta content=\"2017-06-08T07:38-05:00\" name=\"dcterms.date\"/>\n",
       "<meta content=\"Text\" name=\"dcterms.type\"/>\n",
       "<meta content=\"text/html\" name=\"dcterms.format\"/>\n",
       "<meta content=\"https://www.sehinc.com/news/7-articles-about-autonomous-vehicles-every-official-should-read\" name=\"dcterms.identifier\"/>\n",
       "<meta content=\"2019-05-31T09:01-05:00\" name=\"dcterms.modified\"/>\n",
       "<title>7 Articles About Autonomous Vehicles Every Official Should Read | SEH®</title>\n",
       "<meta content=\"width\" name=\"MobileOptimized\"/>\n",
       "<meta content=\"true\" name=\"HandheldFriendly\"/>\n",
       "<meta content=\"width=device-width\" name=\"viewport\"/>\n",
       "<!-- <link href=\"https://fonts.googleapis.com/css?family=Open+Sans\" rel=\"stylesheet\"> -->\n",
       "<link href=\"https://fonts.googleapis.com/css?family=Open+Sans:300,300i,400,400i,600,600i,700,700i,800,800i\" rel=\"stylesheet\"/>\n",
       "<link href=\"https://fonts.googleapis.com/css?family=Oswald:200,300,400,500,600,700\" rel=\"stylesheet\"/>\n",
       "<link href=\"https://maxcdn.bootstrapcdn.com/font-awesome/4.7.0/css/font-awesome.min.css\" rel=\"stylesheet\"/>\n",
       "<link href=\"https://www.sehinc.com/sites/default/files/css/css_syqOK6DfChZOrLgQyor9-qHIHhqfgflsLOE1QlfOWi0.css\" media=\"all\" rel=\"stylesheet\" type=\"text/css\">\n",
       "<link href=\"https://www.sehinc.com/sites/default/files/css/css_HcK3vpHhavrhnTn14vcwKljow0Ko3hlBWT7OMlatPYc.css\" media=\"all\" rel=\"stylesheet\" type=\"text/css\">\n",
       "<link href=\"https://www.sehinc.com/sites/default/files/css/css_U5NN3vN-I-uTEkfS7_4Qq1bGqL_twdBupGP7O1lqPy0.css\" media=\"all\" rel=\"stylesheet\" type=\"text/css\">\n",
       "<script src=\"https://www.sehinc.com/sites/default/files/js/js_ypadrG4kz9-JBpNOXmgjyVozLCJG_1RP3Ig-iqWR8n0.js\"></script>\n",
       "<script>document.createElement( \"picture\" );</script>\n",
       "<script src=\"https://www.sehinc.com/sites/default/files/js/js_mbAn79KBLxClfxOVb5TIhDqa3ryjmS3OE1Wev6dmbLk.js\"></script>\n",
       "<script>(function(i,s,o,g,r,a,m){i[\"GoogleAnalyticsObject\"]=r;i[r]=i[r]||function(){(i[r].q=i[r].q||[]).push(arguments)},i[r].l=1*new Date();a=s.createElement(o),m=s.getElementsByTagName(o)[0];a.async=1;a.src=g;m.parentNode.insertBefore(a,m)})(window,document,\"script\",\"https://www.google-analytics.com/analytics.js\",\"ga\");ga(\"create\", \"UA-12821732-1\", {\"cookieDomain\":\"auto\"});ga(\"set\", \"anonymizeIp\", true);ga(\"send\", \"pageview\");</script>\n",
       "<script src=\"https://www.sehinc.com/sites/default/files/js/js_Qt8dMjYVEPLZJ-2hins_LV0-KvZ_vHk3O6FPjwK9Pxo.js\"></script>\n",
       "<script src=\"https://www.sehinc.com/sites/default/files/js/js_76rs5xT1poLkM8a5421y1JCF7s22FkO6Cpp-40IjP4g.js\"></script>\n",
       "<script>jQuery.extend(Drupal.settings, {\"basePath\":\"\\/\",\"pathPrefix\":\"\",\"ajaxPageState\":{\"theme\":\"zeh2017\",\"theme_token\":\"OzuxOyq7PEKxXQgtj6Mek7eXC2-joMzGr-iuGtkpt4g\",\"js\":{\"sites\\/all\\/modules\\/picture\\/picturefill2\\/picturefill.min.js\":1,\"sites\\/all\\/modules\\/picture\\/picture.min.js\":1,\"sites\\/all\\/modules\\/jquery_update\\/replace\\/jquery\\/1.10\\/jquery.min.js\":1,\"misc\\/jquery-extend-3.4.0.js\":1,\"misc\\/jquery-html-prefilter-3.5.0-backport.js\":1,\"misc\\/jquery.once.js\":1,\"misc\\/drupal.js\":1,\"0\":1,\"sites\\/all\\/modules\\/custom_search\\/js\\/custom_search.js\":1,\"sites\\/all\\/modules\\/responsive_menus\\/styles\\/sidr\\/js\\/responsive_menus_sidr.js\":1,\"sites\\/all\\/libraries\\/sidr\\/jquery.sidr.min.js\":1,\"sites\\/all\\/modules\\/google_analytics\\/googleanalytics.js\":1,\"1\":1,\"sites\\/all\\/libraries\\/superfish\\/jquery.hoverIntent.minified.js\":1,\"sites\\/all\\/libraries\\/superfish\\/sftouchscreen.js\":1,\"sites\\/all\\/libraries\\/superfish\\/supposition.js\":1,\"sites\\/all\\/libraries\\/superfish\\/superfish.js\":1,\"sites\\/all\\/modules\\/superfish\\/superfish.js\":1,\"sites\\/all\\/themes\\/zeh2017\\/js\\/script.js\":1},\"css\":{\"modules\\/system\\/system.base.css\":1,\"modules\\/system\\/system.menus.css\":1,\"modules\\/system\\/system.messages.css\":1,\"modules\\/system\\/system.theme.css\":1,\"modules\\/field\\/theme\\/field.css\":1,\"modules\\/node\\/node.css\":1,\"sites\\/all\\/modules\\/picture\\/picture_wysiwyg.css\":1,\"modules\\/search\\/search.css\":1,\"modules\\/user\\/user.css\":1,\"sites\\/all\\/modules\\/views\\/css\\/views.css\":1,\"sites\\/all\\/modules\\/ckeditor\\/css\\/ckeditor.css\":1,\"sites\\/all\\/modules\\/entity_embed\\/css\\/entity_embed.css\":1,\"sites\\/all\\/modules\\/ctools\\/css\\/ctools.css\":1,\"sites\\/all\\/modules\\/panels\\/css\\/panels.css\":1,\"sites\\/all\\/themes\\/zeh2017\\/panels-layouts\\/seh_ct_news\\/seh_ct_news.css\":1,\"sites\\/all\\/modules\\/date\\/date_api\\/date.css\":1,\"sites\\/all\\/libraries\\/sidr\\/stylesheets\\/jquery.sidr.light.css\":1,\"public:\\/\\/ctools\\/css\\/ad57ff1546b4e3e493a0d16eb09e3ad9.css\":1,\"sites\\/all\\/modules\\/panels\\/plugins\\/layouts\\/onecol\\/onecol.css\":1,\"sites\\/all\\/modules\\/custom_search\\/custom_search.css\":1,\"sites\\/all\\/themes\\/zeh2017\\/panels-layouts\\/seh_footer\\/seh_footer.css\":1,\"sites\\/all\\/libraries\\/superfish\\/css\\/superfish.css\":1,\"sites\\/all\\/themes\\/zeh2017\\/system.base.css\":1,\"sites\\/all\\/themes\\/zeh2017\\/system.menus.css\":1,\"sites\\/all\\/themes\\/zeh2017\\/system.messages.css\":1,\"sites\\/all\\/themes\\/zeh2017\\/system.theme.css\":1,\"sites\\/all\\/themes\\/zeh2017\\/comment.css\":1,\"sites\\/all\\/themes\\/zeh2017\\/node.css\":1,\"sites\\/all\\/themes\\/zeh2017\\/css\\/styles.css\":1}},\"custom_search\":{\"form_target\":\"_self\",\"solr\":0},\"responsive_menus\":[{\"selectors\":[\".pane-superfish-1\"],\"trigger_txt\":\"\\u003Ci class=\\u0022fa fa-bars\\u0022\\u003E\\u003C\\/i\\u003E\",\"side\":\"right\",\"speed\":\"200\",\"media_size\":\"777\",\"displace\":\"1\",\"renaming\":\"1\",\"onOpen\":\"\",\"onClose\":\"\",\"responsive_menus_style\":\"sidr\"}],\"googleanalytics\":{\"trackOutbound\":1,\"trackMailto\":1,\"trackDownload\":1,\"trackDownloadExtensions\":\"7z|aac|arc|arj|asf|asx|avi|bin|csv|doc(x|m)?|dot(x|m)?|exe|flv|gif|gz|gzip|hqx|jar|jpe?g|js|mp(2|3|4|e?g)|mov(ie)?|msi|msp|pdf|phps|png|ppt(x|m)?|pot(x|m)?|pps(x|m)?|ppam|sld(x|m)?|thmx|qtm?|ra(m|r)?|sea|sit|tar|tgz|torrent|txt|wav|wma|wmv|wpd|xls(x|m|b)?|xlt(x|m)|xlam|xml|z|zip\"},\"superfish\":{\"1\":{\"id\":\"1\",\"sf\":{\"animation\":{\"opacity\":\"show\",\"height\":\"show\"},\"speed\":\"fast\",\"autoArrows\":false,\"dropShadows\":false},\"plugins\":{\"touchscreen\":{\"behaviour\":\"1\",\"mode\":\"always_active\"},\"supposition\":true}}},\"urlIsAjaxTrusted\":{\"\\/news\\/7-articles-about-autonomous-vehicles-every-official-should-read\":true}});</script>\n",
       "<!--[if lt IE 9]>\n",
       "    <script src=\"/sites/all/themes/zen/js/html5shiv.min.js\"></script>\n",
       "    <![endif]-->\n",
       "</link></link></link></head>\n",
       "<body class=\"html not-front not-logged-in no-sidebars page-node page-node- page-node-1355 node-type-news section-news page-panels\">\n",
       "<p class=\"skip-link__wrapper\">\n",
       "<a class=\"skip-link visually-hidden visually-hidden--focusable\" href=\"#main-menu\" id=\"skip-link\">Jump to navigation</a>\n",
       "</p>\n",
       "<div class=\"panel-pane pane-panels-mini pane-header\">\n",
       "<div class=\"panel-display panel-1col clearfix\" id=\"mini-panel-header\">\n",
       "<div class=\"panel-panel panel-col\">\n",
       "<div><div class=\"panel-pane pane-page-logo\">\n",
       "<a href=\"/\" id=\"logo\" rel=\"home\" title=\"Home\"><img alt=\"Home\" src=\"https://www.sehinc.com/sites/default/files/logo--seh_0.png\" typeof=\"foaf:Image\"/></a>\n",
       "</div>\n",
       "<div class=\"panel-pane pane-block pane-superfish-1 pane-superfish\">\n",
       "<ul class=\"menu sf-menu sf-main-menu sf-horizontal sf-style-none sf-total-items-5 sf-parent-items-1 sf-single-items-4\" id=\"superfish-1\"><li class=\"first odd sf-item-1 sf-depth-1 sf-total-children-7 sf-parent-children-0 sf-single-children-7 menuparent\" id=\"menu-447-1\"><a class=\"sf-depth-1 menuparent\" href=\"/overview\">About</a><ul><li class=\"first odd sf-item-1 sf-depth-2 sf-no-children\" id=\"menu-478-1\"><a class=\"sf-depth-2\" href=\"/services\">What We Do</a></li><li class=\"middle even sf-item-2 sf-depth-2 sf-no-children\" id=\"menu-6737-1\"><a class=\"sf-depth-2\" href=\"/who-we-serve\">Who We Serve</a></li><li class=\"middle odd sf-item-3 sf-depth-2 sf-no-children\" id=\"menu-6739-1\"><a class=\"sf-depth-2\" href=\"/topic/employee-spotlight\" title=\"\">Employee Spotlight</a></li><li class=\"middle even sf-item-4 sf-depth-2 sf-no-children\" id=\"menu-936-1\"><a class=\"sf-depth-2\" href=\"/office-locations\">Office Locations</a></li><li class=\"middle odd sf-item-5 sf-depth-2 sf-no-children\" id=\"menu-477-1\"><a class=\"sf-depth-2\" href=\"/overview\">Company Overview</a></li><li class=\"middle even sf-item-6 sf-depth-2 sf-no-children\" id=\"menu-465-1\"><a class=\"sf-depth-2\" href=\"/company-news\">Company News</a></li><li class=\"last odd sf-item-7 sf-depth-2 sf-no-children\" id=\"menu-480-1\"><a class=\"sf-depth-2\" href=\"/giving-back\">Giving Back</a></li></ul></li><li class=\"middle even sf-item-2 sf-depth-1 sf-no-children\" id=\"menu-448-1\"><a class=\"sf-depth-1\" href=\"/insight\">Insight</a></li><li class=\"middle odd sf-item-3 sf-depth-1 sf-no-children\" id=\"menu-6736-1\"><a class=\"sf-depth-1\" href=\"/downloads\">Downloads</a></li><li class=\"middle even sf-item-4 sf-depth-1 sf-no-children\" id=\"menu-450-1\"><a class=\"sf-depth-1\" href=\"/careers\">Careers</a></li><li class=\"last odd sf-item-5 sf-depth-1 sf-no-children\" id=\"menu-9866-1\"><a class=\"sf-depth-1\" href=\"/contact-us\">Contact</a></li></ul>\n",
       "</div>\n",
       "<div class=\"panel-pane pane-block pane-search-form pane-search\">\n",
       "<form accept-charset=\"UTF-8\" action=\"/news/7-articles-about-autonomous-vehicles-every-official-should-read\" class=\"search-form\" id=\"search-block-form\" method=\"post\" role=\"search\"><div><div class=\"container-inline\">\n",
       "<h2 class=\"element-invisible\">Search form</h2>\n",
       "<div class=\"form-item form-type-textfield form-item-search-block-form\">\n",
       "<label class=\"element-invisible\" for=\"edit-search-block-form--2\">Search this site </label>\n",
       "<input class=\"custom-search-box form-text\" id=\"edit-search-block-form--2\" maxlength=\"128\" name=\"search_block_form\" placeholder=\"search\" size=\"15\" title=\"Enter the terms you wish to search for.\" type=\"text\" value=\"\"/>\n",
       "</div>\n",
       "<div class=\"form-actions form-wrapper\" id=\"edit-actions\"><input class=\"form-submit\" id=\"edit-submit\" name=\"op\" type=\"submit\" value=\"\"/></div><input name=\"form_build_id\" type=\"hidden\" value=\"form-s4r1SNhFfW_mf22x-p_1tei0XoPfFgmt1-sRDlQhr6k\"/>\n",
       "<input name=\"form_id\" type=\"hidden\" value=\"search_block_form\"/>\n",
       "</div>\n",
       "</div></form>\n",
       "</div>\n",
       "</div>\n",
       "</div>\n",
       "</div>\n",
       "</div>\n",
       "<div class=\"news\">\n",
       "<div><a name=\"top\"></a></div>\n",
       "<div class=\"news-feature-body\">\n",
       "</div>\n",
       "<div class=\"news-header\">\n",
       "<div class=\"panel-pane pane-entity-field pane-node-field-title-display\">\n",
       "<div class=\"field field-name-field-title-display field-type-text-long field-label-hidden\"><div class=\"field-items\"><div class=\"field-item even\"><div class=\"field-name-field-title-display\">\n",
       "<div class=\"cover\" style=\"background-image: url('/sites/default/files/file-attachments/news/Header_Driverless_290_2.jpg');\">\n",
       "<div class=\"title--4\">\n",
       "<h1>\n",
       "\t\t\t\t7 Articles About Autonomous Vehicles Every Official Should Read</h1>\n",
       "</div>\n",
       "</div>\n",
       "</div>\n",
       "</div></div></div>\n",
       "</div>\n",
       "</div>\n",
       "<div class=\"news-byline l--default\">\n",
       "<div class=\"panel-pane pane-entity-field pane-node-field-date-display\">\n",
       "<div class=\"field field-name-field-date-display field-type-datetime field-label-hidden\"><div class=\"field-items\"><div class=\"field-item even\"><span class=\"date-display-single\" content=\"2017-06-08T00:00:00-05:00\" datatype=\"xsd:dateTime\" property=\"dc:date\">June 8, 2017</span></div></div></div>\n",
       "</div>\n",
       "</div>\n",
       "<div class=\"news-body\">\n",
       "<div class=\"panel-pane pane-node-body\">\n",
       "<div class=\"field field-name-body field-type-text-with-summary field-label-hidden\"><div class=\"field-items\"><div class=\"field-item even\" property=\"content:encoded\"><!--[if IE]>\n",
       "    <style>\n",
       "        .graphed {\n",
       "            display:none;\n",
       "        }\n",
       "    </style>\n",
       "<![endif]-->\n",
       "<div class=\"l--thin\">\n",
       "<p class=\"callout\">\n",
       "\t\tThere are over three million articles about autonomous vehicles. Here are seven worthy of every official’s attention.  </p>\n",
       "<p>\n",
       "\t\tThe future is getting closer to the present every day as vehicle manufacturers and tech companies race to deliver autonomous vehicles to the masses. Some view this Jetsons-like future as the next wave of human advancement, while others are more skeptical. Whatever your viewpoint, this emerging technology will impact our cities.</p>\n",
       "<p>\n",
       "\t\tMany are writing about autonomous vehicles, but what articles should we be paying attention to? We put together a list of seven articles that give you a solid understanding of the state of autonomous vehicles today.</p>\n",
       "<figure>\n",
       "<img alt=\"Interest over time graph\" class=\"img--frame\" src=\"/sites/default/files/file-attachments/news/Body_Graphic_graph.jpg\"/>\n",
       "<figcaption>\n",
       "\t\t\tEveryone wants to know. This graph, from Google Trends, shows a substantial rise in the searches for the phrase “autonomous vehicles” over the past five years.</figcaption>\n",
       "</figure>\n",
       "<h2>\n",
       "\t\tHow do autonomous vehicles actually work?</h2>\n",
       "<p>\n",
       "<a href=\"http://www.businessinsider.com/everything-you-need-to-know-about-autonomous-vehicles-2017-3\"><strong>INFOGRAPHIC: Everything you need to know about autonomous vehicles</strong></a><br/>\n",
       "\t\tBusiness Insider | Jeff Desjardins</p>\n",
       "<p>\n",
       "\t\tFor the uninitiated, this article, which includes an in-depth infographic, gives a good foundation by explaining the background, history and mechanics of autonomous vehicles. You will find out how the technologies work, the technical challenges vehicles have overcome and how they may evolve in the near future. </p>\n",
       "<h2>\n",
       "\t\tWhen will autonomous vehicles be on the road?</h2>\n",
       "<p>\n",
       "<a href=\"https://qz.com/943899/a-timeline-of-when-self-driving-cars-will-be-on-the-road-according-to-the-people-making-them/\"><strong>A Timeline of When Self-Driving Cars Will be on the Road, According to the People Making Them</strong></a><br/>\n",
       "\t\tQuartz | Sarah Kessler</p>\n",
       "<p>\n",
       "\t\tWhen will this technology make it to the masses? That depends on who you ask and how they define “autonomous.” This article provides a timeline of predictions from major players in the autonomous vehicle realm: car manufacturers, tech companies and others. The timelines, which come from Tesla, Toyota, Lyft, Uber and Ford, differ greatly, but provide insight into how speculative such predictions can be. Some say they’re already here. Others say they won’t get here until 2035. In the article, Kessler writes, “The consequences of that timeline are huge—self-driving vehicles could replace 3 million US jobs, change city infrastructure, and upend the average commute—but actually pinning it down is difficult.” </p>\n",
       "<p class=\"callout body--section text--center text--grey\">\n",
       "<span class=\"text--black text--uppercase\">Receive great insight like this monthly</span><br/>\n",
       "<a class=\"c2a c2a--blue\" href=\"/subscribe\">Subscribe</a></p>\n",
       "<h2>\n",
       "\t\tAre cities prepared for autonomous vehicles?</h2>\n",
       "<p>\n",
       "<strong><a href=\"http://www.wired.com/2016/04/american-cities-nowhere-near-ready-self-driving-cars/\">American Cities Are Nowhere Near Ready for Self-Driving Cars</a></strong><br/>\n",
       "\t\tWired | Eric Adams</p>\n",
       "<p>\n",
       "\t\tThe short answer, according to the author: no. Only six percent of transportation plans in major U.S. cities are taking into account the potential impact of driverless cars. The article posits that while cities have a lot of work to do to integrate the technology into their infrastructure, what’s really stalling progress is a general lack of understanding of the capabilities of driverless cars. With so much in the air regarding the technology itself, how do cities plan? </p>\n",
       "<p>\n",
       "\t\tFor example, will congestion decrease as more people opt for ride sharing via autonomous vehicles? Or will cars become cheaper than ever, making roadways more congested than before? The good news, a few organizations, such as the Driverless Cities Project, are taking the lead and planning for the inevitability of this technology, and they have some interesting revelations.</p>\n",
       "<h2>\n",
       "\t\tHow will autonomous vehicles affect our cities? </h2>\n",
       "<p>\n",
       "<a href=\"https://www.wired.com/2016/10/heres-self-driving-cars-will-transform-city/\"><strong>Here’s How Self-Driving Cars Will Transform Your City</strong></a><br/>\n",
       "\t\tWired | Sam Lubell</p>\n",
       "<p>\n",
       "\t\tFrom the complete transformation of urban cores to the policy that will surround our new world, this article brings together thought leaders from many disciplines: city planners and project managers, MIT directors, authors and National League of Cities officials. In it, Brooks Rainwater, Senior Executive Director, Center For City Solutions, National League of Cities, says, “Through technology you can get to a point where you no longer need traffic lights or clear distinctions between roads and sidewalks. Our cities will be more data intense and human-centered.” </p>\n",
       "<p>\n",
       "\t\tAnother revelation in this article comes from Anthony Townsend, author of \"Smart Cities: Big Data, Civic Hackers, and the Quest for a New Utopia,\" who points out that we’ve been focusing most of our attention on the average commuter, but we need to remember other vehicles that, once automated, will transform our cities. \"It’s actually trash trucks, trailers, delivery vans, taxis and other vehicles that take up much of the space in cities. They will be completely transformed by automated technologies,\" Townsend says. </p>\n",
       "<h2>\n",
       "\t\tWhat policies should cities enact to prepare for autonomous vehicles?</h2>\n",
       "<p>\n",
       "<strong><a href=\"http://www.nlc.org/sites/default/files/2017-04/NLC AV Policy Prep Guide web.pdf\">National League of Cities’ Autonomous Vehicles Policy Preparation Guide</a></strong><br/>\n",
       "\t\tNational League of Cities | Center for City Solutions</p>\n",
       "<p>\n",
       "\t\tUndoubtedly, this new technology will require writing new policies on both a state and federal level. How should these policies work together? Where should they differ? This 2017 guide provides a helpful framework for cities preparing for autonomous vehicles. One preparation cities need to make: putting together policies regarding data. Autonomous, connected vehicles will provide cities with lots of data. For example, a city could receive a real-time notification from a car once it hits a pothole, which could then inform public road maintenance programs. But what are the privacy issues? How will this data be kept secure? What will happen to it once it’s collected? All important questions. </p>\n",
       "<h2>\n",
       "\t\tHow will autonomous vehicles affect public safety and traffic enforcement?</h2>\n",
       "<p>\n",
       "<a href=\"http://www.policechiefmagazine.org/preparing-for-a-future-with-autonomous-vehicles/\"><strong>Preparing for a Future with Autonomous Vehicles</strong></a><br/>\n",
       "\t\tPolice Chief Magazine | Ken Davis, Captain, California Highway Patrol</p>\n",
       "<p>\n",
       "\t\tThis article, written by Ken Davis, California Highway Patrol captain, offers a policing perspective on autonomous vehicles. He says although safety from common traffic incidents may increase exponentially, autonomous vehicles may also create new criminal applications, writing, “Autonomous vehicles will have a high impact on transforming what both law enforcement and its adversaries can operationally do with a car.” According to Davis, we still need a better understanding of new criminal applications (hacking into a vehicle operating system, for example), who has oversight (local, state or federal) and how police work around the lack of traffic stops, which will have a major financial impact. </p>\n",
       "<h2>\n",
       "\t\tHow will autonomous vehicles affect land planning and development?</h2>\n",
       "<p>\n",
       "<a href=\"https://www.curbed.com/2017/5/16/15644358/parking-real-estate-driverless-cars-urban-planning-development\"><strong>As self-driving cars hit the road, real estate development may take new direction</strong></a><br/>\n",
       "\t\tPatrick Sisson | Curbed</p>\n",
       "<p>\n",
       "\t\tThis article attempts to ask and answer many important questions surrounding planning, land use and land development, including: </p>\n",
       "<ul>\n",
       "<li>\n",
       "\t\t\tWill most of our parking spaces turn into developments? </li>\n",
       "<li>\n",
       "\t\t\tWill the grid layouts of cities across the world have to change? </li>\n",
       "<li>\n",
       "\t\t\tWill crosswalks become a thing of the past? </li>\n",
       "<li>\n",
       "\t\t\tHow will developers operate in these new city spaces?</li>\n",
       "<li>\n",
       "\t\t\tWhat new codes will be developed to accommodate driverless cars? </li>\n",
       "</ul>\n",
       "<p>\n",
       "\t\tSisson warns of the potential for driverless cars to increase urban sprawl, writing, “as the perceived price of transportation decreases due to automation, it’ll be cheaper for developers to fund projects far from dense urban areas unless municipalities take the lead to incentivize infill development and perhaps even charge for vehicle-miles traveled as a way to make AV commutes less amenable.” Some think the impact on our cities will be as profound as when the automobile first hit the streets.</p>\n",
       "<h2>\n",
       "\t\tWrapping it up</h2>\n",
       "<p>\n",
       "\t\tAutonomous vehicles are coming. There’s no doubt they will have a significant effect on how cities and towns operate. We can speculate on whether those effects will build up our cities, or whether they’ll have negative consequences. But one thing’s for certain: we need to prepare.</p>\n",
       "</div>\n",
       "</div></div></div>\n",
       "</div>\n",
       "</div>\n",
       "<div class=\"news-postline l--thin clear text--blue\">\n",
       "<em><div class=\"panel-pane pane-views-panes pane-news-panel-pane-2\">\n",
       "<div class=\"view view-news view-id-news view-display-id-panel_pane_2 news view-dom-id-a2ee56fc15021f1bc843173a1044fcec\">\n",
       "<div class=\"view-content\">\n",
       "<div class=\"views-row views-row-1 views-row-odd views-row-first views-row-last\">\n",
       "<div class=\"views-field views-field-nothing\"> <span class=\"field-content\"><a datatype=\"\" href=\"/topic/mobility\" property=\"rdfs:label skos:prefLabel\" typeof=\"skos:Concept\">Mobility</a>, <a datatype=\"\" href=\"/tags/highway-design\" property=\"rdfs:label skos:prefLabel\" typeof=\"skos:Concept\">Highway Design</a>, <a datatype=\"\" href=\"/tags/landscape-architecture\" property=\"rdfs:label skos:prefLabel\" typeof=\"skos:Concept\">Landscape Architecture</a>, <a datatype=\"\" href=\"/tags/road-and-street-design\" property=\"rdfs:label skos:prefLabel\" typeof=\"skos:Concept\">Road and Street Design</a>, <a datatype=\"\" href=\"/tags/traffic-engineering\" property=\"rdfs:label skos:prefLabel\" typeof=\"skos:Concept\">Traffic Engineering</a>, <a datatype=\"\" href=\"/tags/planning-and-urban-design\" property=\"rdfs:label skos:prefLabel\" typeof=\"skos:Concept\">Planning and Urban Design</a></span> </div> </div>\n",
       "</div>\n",
       "</div>\n",
       "</div>\n",
       "</em>\n",
       "</div>\n",
       "<div class=\"l--full border-top no-margin--bottom\" style=\"background:linear-gradient(rgba(235,235,235,100), rgba(235,235,235,0));\">\n",
       "<div class=\"news-announcements\">\n",
       "<div class=\"panel-pane pane-fieldable-panels-pane pane-current-10 pane-bundle-site-wide-announcement-pane\">\n",
       "<div class=\"fieldable-panels-pane\">\n",
       "<div class=\"field field-name-field-announcement-body field-type-text-long field-label-hidden\"><div class=\"field-items\"><div class=\"field-item even\"><div class=\"l--default margin-top--xxxxl\">\n",
       "<div class=\"l--default margin-bottom--xxxxl bg--blue--dark cover\" style=\"background-image: url(/files/uploads/images/library-banner-background-1790x446-005.jpg);padding-top:1px;padding-bottom:1px;\">\n",
       "<div class=\"l--default margin-top--xxxxl\">\n",
       "<h2 class=\"text--white\">We’re hiring! Join our team.</h2>\n",
       "</div>\n",
       "<div class=\"layout-2col margin-bottom--xxxl\">\n",
       "<div class=\"layout-2col__col-1\">\n",
       "<p class=\"text--white\">At SEH, our people define us. You are the reason we lead the industry. Explore open positions, our culture and what “100% employee-owned” means for your career. Connect with your Recruitement Team.</p>\n",
       "</div>\n",
       "<div class=\"layout-2col__col-2\">\n",
       "<p><a class=\"c2a c2a--gold\" href=\"/careers#recruiters\">Connect</a></p>\n",
       "</div>\n",
       "</div>\n",
       "</div>\n",
       "</div>\n",
       "<div class=\"l--default\">\n",
       "<div class=\"l--default margin-bottom--xxxxxl bg--blue--dark cover\" style=\"background-image: url(/sites/default/files/file-attachments/news/library-banner-background-1790x446-002.jpg);padding-top:1px;padding-bottom:1px;\">\n",
       "<div class=\"l--default margin-top--xxxxl\">\n",
       "<h2 class=\"text--white\">Your destination for industry news and insight.</h2>\n",
       "</div>\n",
       "<div class=\"layout-2col margin-bottom--xxxl\">\n",
       "<div class=\"layout-2col__col-1\">\n",
       "<p class=\"text--white\">Browse our library of eBooks, case studies, infographics and more. Available for free download, these tools tackle your most pressing project challenges.</p>\n",
       "</div>\n",
       "<div class=\"layout-2col__col-2\">\n",
       "<p><a class=\"c2a c2a--blue\" href=\"/downloads\">Discover</a></p>\n",
       "</div>\n",
       "</div>\n",
       "</div>\n",
       "</div>\n",
       "</div></div></div></div>\n",
       "</div>\n",
       "</div>\n",
       "<div class=\"news-related margin-top--xxxxl\">\n",
       "<div class=\"panel-pane pane-views-panes pane-related-news-panel-pane-6\">\n",
       "<div class=\"view view-related-news view-id-related_news view-display-id-panel_pane_6 layout-3col news view-dom-id-9b8a6a5b1a1bf6f97145cfafb942a565\">\n",
       "<div class=\"view-content\">\n",
       "<div class=\"layout-3col--col-1\">\n",
       "<div class=\"card--news__topic\"><a datatype=\"\" href=\"/topic/mobility\" property=\"rdfs:label skos:prefLabel\" typeof=\"skos:Concept\">Mobility</a></div>\n",
       "<div class=\"card--news__image\"><a href=\"/news/5-tools-guide-your-safe-routes-school-srts-program\"><picture>\n",
       "<!--[if IE 9]><video style=\"display: none;\"><![endif]-->\n",
       "<source media=\"only screen and (min-width: 1200px)\" srcset=\"https://www.sehinc.com/sites/default/files/styles/medium_breakpoints_theme_zeh2017_normal_1x/public/image--preview--square/news/TH_SafeRoutes_900x500.jpg?itok=hUqXp3HR&amp;timestamp=1629404163 1x\"/>\n",
       "<source media=\"(min-width: 999px)\" srcset=\"https://www.sehinc.com/sites/default/files/styles/medium_breakpoints_theme_zeh2017_normal_1x/public/image--preview--square/news/TH_SafeRoutes_900x500.jpg?itok=hUqXp3HR&amp;timestamp=1629404163 1x\"/>\n",
       "<source media=\"(min-width: 777px)\" srcset=\"https://www.sehinc.com/sites/default/files/styles/medium_breakpoints_theme_zeh2017_tablet_1x/public/image--preview--square/news/TH_SafeRoutes_900x500.jpg?itok=0ZP9JjBX&amp;timestamp=1629404163 1x\"/>\n",
       "<source media=\"(min-width: 444px)\" srcset=\"https://www.sehinc.com/sites/default/files/styles/medium_breakpoints_theme_zeh2017_mobile_1x/public/image--preview--square/news/TH_SafeRoutes_900x500.jpg?itok=ZQ5OTfAG&amp;timestamp=1629404163 1x\"/>\n",
       "<source media=\"(min-width: 0px)\" srcset=\"https://www.sehinc.com/sites/default/files/styles/medium_breakpoints_theme_zeh2017_mini_1x/public/image--preview--square/news/TH_SafeRoutes_900x500.jpg?itok=PsWnBhgD&amp;timestamp=1629404163 1x\"/>\n",
       "<!--[if IE 9]></video><![endif]-->\n",
       "<img alt=\"\" src=\"https://www.sehinc.com/sites/default/files/styles/medium_breakpoints_theme_zeh2017_mini_1x/public/image--preview--square/news/TH_SafeRoutes_900x500.jpg?itok=PsWnBhgD&amp;timestamp=1629404163\" title=\"\"/>\n",
       "</picture></a></div>\n",
       "<div class=\"card--news__title\"><a href=\"/news/5-tools-guide-your-safe-routes-school-srts-program\">5 Tools to Guide Your Safe Routes to School (SRTS) Program</a></div>\n",
       "<div class=\"card--news__tags\"><a datatype=\"\" href=\"/tags/community-planning\" property=\"rdfs:label skos:prefLabel\" typeof=\"skos:Concept\">Community Planning</a>, <a datatype=\"\" href=\"/tags/planning-and-urban-design\" property=\"rdfs:label skos:prefLabel\" typeof=\"skos:Concept\">Planning and Urban Design</a></div> </div>\n",
       "<div class=\"layout-3col--col-2\">\n",
       "<div class=\"card--news__topic\"><a datatype=\"\" href=\"/topic/mobility\" property=\"rdfs:label skos:prefLabel\" typeof=\"skos:Concept\">Mobility</a></div>\n",
       "<div class=\"card--news__image\"><a href=\"/news/how-address-8-common-challenges-complete-streets-projects\"><picture>\n",
       "<!--[if IE 9]><video style=\"display: none;\"><![endif]-->\n",
       "<source media=\"only screen and (min-width: 1200px)\" srcset=\"https://www.sehinc.com/sites/default/files/styles/medium_breakpoints_theme_zeh2017_normal_1x/public/image--preview--square/news/TH_Jackson_900x500.jpg?itok=NU0YCmzH&amp;timestamp=1618942564 1x\"/>\n",
       "<source media=\"(min-width: 999px)\" srcset=\"https://www.sehinc.com/sites/default/files/styles/medium_breakpoints_theme_zeh2017_normal_1x/public/image--preview--square/news/TH_Jackson_900x500.jpg?itok=NU0YCmzH&amp;timestamp=1618942564 1x\"/>\n",
       "<source media=\"(min-width: 777px)\" srcset=\"https://www.sehinc.com/sites/default/files/styles/medium_breakpoints_theme_zeh2017_tablet_1x/public/image--preview--square/news/TH_Jackson_900x500.jpg?itok=TLG3-DfM&amp;timestamp=1618942564 1x\"/>\n",
       "<source media=\"(min-width: 444px)\" srcset=\"https://www.sehinc.com/sites/default/files/styles/medium_breakpoints_theme_zeh2017_mobile_1x/public/image--preview--square/news/TH_Jackson_900x500.jpg?itok=AfWjFndT&amp;timestamp=1618942564 1x\"/>\n",
       "<source media=\"(min-width: 0px)\" srcset=\"https://www.sehinc.com/sites/default/files/styles/medium_breakpoints_theme_zeh2017_mini_1x/public/image--preview--square/news/TH_Jackson_900x500.jpg?itok=FU79L3wo&amp;timestamp=1618942564 1x\"/>\n",
       "<!--[if IE 9]></video><![endif]-->\n",
       "<img alt=\"\" src=\"https://www.sehinc.com/sites/default/files/styles/medium_breakpoints_theme_zeh2017_mini_1x/public/image--preview--square/news/TH_Jackson_900x500.jpg?itok=FU79L3wo&amp;timestamp=1618942564\" title=\"\"/>\n",
       "</picture></a></div>\n",
       "<div class=\"card--news__title\"><a href=\"/news/how-address-8-common-challenges-complete-streets-projects\">How to Address 8 Common Challenges of Complete Streets Projects</a></div>\n",
       "<div class=\"card--news__tags\"><a datatype=\"\" href=\"/tags/civil-engineering\" property=\"rdfs:label skos:prefLabel\" typeof=\"skos:Concept\">Civil Engineering</a>, <a datatype=\"\" href=\"/tags/traffic-engineering\" property=\"rdfs:label skos:prefLabel\" typeof=\"skos:Concept\">Traffic Engineering</a>, <a datatype=\"\" href=\"/tags/landscape-architecture\" property=\"rdfs:label skos:prefLabel\" typeof=\"skos:Concept\">Landscape Architecture</a>, <a datatype=\"\" href=\"/tags/planning-and-urban-design\" property=\"rdfs:label skos:prefLabel\" typeof=\"skos:Concept\">Planning and Urban Design</a></div> </div>\n",
       "<div class=\"layout-3col--col-3\">\n",
       "<div class=\"card--news__topic\"><a datatype=\"\" href=\"/topic/infrastructure-renewal\" property=\"rdfs:label skos:prefLabel\" typeof=\"skos:Concept\">Infrastructure Renewal</a></div>\n",
       "<div class=\"card--news__image\"><a href=\"/news/how-colorado-communities-can-benefit-urban-renewal-authority\"><picture>\n",
       "<!--[if IE 9]><video style=\"display: none;\"><![endif]-->\n",
       "<source media=\"only screen and (min-width: 1200px)\" srcset=\"https://www.sehinc.com/sites/default/files/styles/medium_breakpoints_theme_zeh2017_normal_1x/public/image--preview--square/news/TH_URA_900x500.jpg?itok=0pXbMMFH&amp;timestamp=1615400575 1x\"/>\n",
       "<source media=\"(min-width: 999px)\" srcset=\"https://www.sehinc.com/sites/default/files/styles/medium_breakpoints_theme_zeh2017_normal_1x/public/image--preview--square/news/TH_URA_900x500.jpg?itok=0pXbMMFH&amp;timestamp=1615400575 1x\"/>\n",
       "<source media=\"(min-width: 777px)\" srcset=\"https://www.sehinc.com/sites/default/files/styles/medium_breakpoints_theme_zeh2017_tablet_1x/public/image--preview--square/news/TH_URA_900x500.jpg?itok=D-sXq2Gd&amp;timestamp=1615400575 1x\"/>\n",
       "<source media=\"(min-width: 444px)\" srcset=\"https://www.sehinc.com/sites/default/files/styles/medium_breakpoints_theme_zeh2017_mobile_1x/public/image--preview--square/news/TH_URA_900x500.jpg?itok=YNcI4Kpg&amp;timestamp=1615400575 1x\"/>\n",
       "<source media=\"(min-width: 0px)\" srcset=\"https://www.sehinc.com/sites/default/files/styles/medium_breakpoints_theme_zeh2017_mini_1x/public/image--preview--square/news/TH_URA_900x500.jpg?itok=M3dSbOKa&amp;timestamp=1615400575 1x\"/>\n",
       "<!--[if IE 9]></video><![endif]-->\n",
       "<img alt=\"\" src=\"https://www.sehinc.com/sites/default/files/styles/medium_breakpoints_theme_zeh2017_mini_1x/public/image--preview--square/news/TH_URA_900x500.jpg?itok=M3dSbOKa&amp;timestamp=1615400575\" title=\"\"/>\n",
       "</picture></a></div>\n",
       "<div class=\"card--news__title\"><a href=\"/news/how-colorado-communities-can-benefit-urban-renewal-authority\">How Colorado Communities Can Benefit from an Urban Renewal Authority</a></div>\n",
       "<div class=\"card--news__tags\"><a datatype=\"\" href=\"/tags/community-development-and-project-funding\" property=\"rdfs:label skos:prefLabel\" typeof=\"skos:Concept\">Community Development and Project Funding</a></div> </div>\n",
       "<div class=\"layout-3col--col-4\">\n",
       "<div class=\"card--news__topic\"><a datatype=\"\" href=\"/topic/everyday\" property=\"rdfs:label skos:prefLabel\" typeof=\"skos:Concept\">Everyday</a></div>\n",
       "<div class=\"card--news__image\"><a href=\"/news/8-trends-architecture-and-engineering-2021\"><picture>\n",
       "<!--[if IE 9]><video style=\"display: none;\"><![endif]-->\n",
       "<source media=\"only screen and (min-width: 1200px)\" srcset=\"https://www.sehinc.com/sites/default/files/styles/medium_breakpoints_theme_zeh2017_normal_1x/public/image--preview--square/news/TH_Trends_900x500_0.jpg?itok=WMtH-sSG&amp;timestamp=1607023491 1x\"/>\n",
       "<source media=\"(min-width: 999px)\" srcset=\"https://www.sehinc.com/sites/default/files/styles/medium_breakpoints_theme_zeh2017_normal_1x/public/image--preview--square/news/TH_Trends_900x500_0.jpg?itok=WMtH-sSG&amp;timestamp=1607023491 1x\"/>\n",
       "<source media=\"(min-width: 777px)\" srcset=\"https://www.sehinc.com/sites/default/files/styles/medium_breakpoints_theme_zeh2017_tablet_1x/public/image--preview--square/news/TH_Trends_900x500_0.jpg?itok=52GQoelW&amp;timestamp=1607023491 1x\"/>\n",
       "<source media=\"(min-width: 444px)\" srcset=\"https://www.sehinc.com/sites/default/files/styles/medium_breakpoints_theme_zeh2017_mobile_1x/public/image--preview--square/news/TH_Trends_900x500_0.jpg?itok=M-cCyuBS&amp;timestamp=1607023491 1x\"/>\n",
       "<source media=\"(min-width: 0px)\" srcset=\"https://www.sehinc.com/sites/default/files/styles/medium_breakpoints_theme_zeh2017_mini_1x/public/image--preview--square/news/TH_Trends_900x500_0.jpg?itok=EJ9lMUf7&amp;timestamp=1607023491 1x\"/>\n",
       "<!--[if IE 9]></video><![endif]-->\n",
       "<img alt=\"\" src=\"https://www.sehinc.com/sites/default/files/styles/medium_breakpoints_theme_zeh2017_mini_1x/public/image--preview--square/news/TH_Trends_900x500_0.jpg?itok=EJ9lMUf7&amp;timestamp=1607023491\" title=\"\"/>\n",
       "</picture></a></div>\n",
       "<div class=\"card--news__title\"><a href=\"/news/8-trends-architecture-and-engineering-2021\">8 Trends in Architecture and Engineering for 2021</a></div>\n",
       "<div class=\"card--news__tags\"><a datatype=\"\" href=\"/tags/drones\" property=\"rdfs:label skos:prefLabel\" typeof=\"skos:Concept\">Drones</a>, <a datatype=\"\" href=\"/tags/civil-engineering\" property=\"rdfs:label skos:prefLabel\" typeof=\"skos:Concept\">Civil Engineering</a>, <a datatype=\"\" href=\"/tags/community-engagement\" property=\"rdfs:label skos:prefLabel\" typeof=\"skos:Concept\">Community Engagement</a>, <a datatype=\"\" href=\"/tags/community-development-and-project-funding\" property=\"rdfs:label skos:prefLabel\" typeof=\"skos:Concept\">Community Development and Project Funding</a>, <a datatype=\"\" href=\"/tags/land-development\" property=\"rdfs:label skos:prefLabel\" typeof=\"skos:Concept\">Land Development</a>, <a datatype=\"\" href=\"/tags/project-management\" property=\"rdfs:label skos:prefLabel\" typeof=\"skos:Concept\">Project Management</a></div> </div>\n",
       "</div>\n",
       "</div>\n",
       "</div>\n",
       "</div>\n",
       "</div>\n",
       "</div>\n",
       "<div class=\"panel-pane pane-panels-mini pane-footer\">\n",
       "<div>\n",
       "<div class=\"footer\" id=\"mini-panel-footer\">\n",
       "<div class=\"footer-content\">\n",
       "<div class=\"layout-3col\">\n",
       "<div class=\"footer-menu layout-3col--col-1 list-unstyled\">\n",
       "<div class=\"panel-pane pane-block pane-menu-menu-footer-menu list-unstyled pane-menu\">\n",
       "<ul class=\"menu\"><li class=\"menu__item is-leaf first leaf\"><a class=\"menu__link\" href=\"/service/sustainability\" title=\"\">Commitment to Sustainability</a></li>\n",
       "<li class=\"menu__item is-leaf leaf\"><a class=\"menu__link\" href=\"/online\" title=\"\">Client Project Websites</a></li>\n",
       "<li class=\"menu__item is-leaf leaf\"><a class=\"menu__link\" href=\"http://www.sehdb.com\" title=\"\">SEH Design|Build</a></li>\n",
       "<li class=\"menu__item is-leaf leaf\"><a class=\"menu__link\" href=\"http://qap.questcdn.com/qap/projects/prj_browse/ipp_browse_grid.html?projType=&amp;group=4&amp;provider=4491\" title=\"\">Project Bid Information</a></li>\n",
       "<li class=\"menu__item is-leaf leaf\"><a class=\"menu__link\" href=\"https://app.tracfax.com/login?corp=seh\" title=\"\">Telecom Client Login</a></li>\n",
       "<li class=\"menu__item is-leaf leaf\"><a class=\"menu__link\" href=\"/video\">Featured Project Videos</a></li>\n",
       "<li class=\"menu__item is-leaf leaf\"><a class=\"menu__link\" href=\"/awards-and-recognition\">Awards and Recognition</a></li>\n",
       "<li class=\"menu__item is-leaf leaf\"><a class=\"menu__link\" href=\"/service/fundstart\" title=\"\">Find Funding With FundStart</a></li>\n",
       "<li class=\"menu__item is-leaf leaf\"><a class=\"menu__link\" href=\"/media-room\">SEH at a Glance</a></li>\n",
       "<li class=\"menu__item is-leaf leaf\"><a class=\"menu__link\" href=\"/privacy-statement\" title=\"\">Privacy Statement</a></li>\n",
       "<li class=\"menu__item is-leaf last leaf\"><a class=\"menu__link\" href=\"/terms-of-use\">Terms of Use</a></li>\n",
       "</ul>\n",
       "</div>\n",
       "</div>\n",
       "<div class=\"footer-links layout-3col--col-2\">\n",
       "<div class=\"footer-subscribe\">\n",
       "<p class=\"text--grey\" style=\"margin-bottom:.5rem;\">Subscribe to Monthly Insight</p>\n",
       "<div class=\"panel-pane pane-custom pane-1 pane-footer__subscribe\">\n",
       "<div class=\"subscribe--link\"><a class=\"c2a c2a--blue\" href=\"/subscribe\"><i aria-hidden=\"true\" class=\"fa fa-envelope-open\"></i>Subscribe</a></div>\n",
       "</div>\n",
       "</div>\n",
       "<div class=\"footer-social\">\n",
       "<p class=\"text--grey\" style=\"margin-bottom:.5rem;\">Join Our Social Communities</p>\n",
       "<div class=\"panel-pane pane-custom pane-2 pane-footer__social-links\">\n",
       "<div class=\"social-icon\"><a href=\"https://www.facebook.com/sehinc/\" target=\"_blank\"><i aria-hidden=\"true\" class=\"fa fa-facebook\"></i></a></div>\n",
       "<div class=\"social-icon\"><a href=\"https://twitter.com/sehinc\" target=\"_blank\"><i aria-hidden=\"true\" class=\"fa fa-twitter\"></i></a></div>\n",
       "<div class=\"social-icon\"><a href=\"https://www.linkedin.com/company/seh\" target=\"_blank\"><i aria-hidden=\"true\" class=\"fa fa-linkedin\"></i></a></div>\n",
       "<div class=\"social-icon\"><a href=\"https://www.youtube.com/user/SEHinc1\" target=\"_blank\"><i aria-hidden=\"true\" class=\"fa fa-youtube-play\"></i></a></div>\n",
       "</div>\n",
       "</div>\n",
       "</div>\n",
       "<div class=\"footer-company-info layout-3col--col-3\">\n",
       "<p>Engineers | Architects | Planners | Scientists<br/>\n",
       "        Building a Better World for All of Us<sup>®</sup><br/>\n",
       "        800.325.2055<br/>\n",
       "        ©2021 Short Elliott Hendrickson Inc.</p>\n",
       "</div>\n",
       "</div>\n",
       "</div>\n",
       "</div>\n",
       "</div>\n",
       "<script src=\"https://www.sehinc.com/sites/default/files/js/js_7Ukqb3ierdBEL0eowfOKzTkNu-Le97OPm-UqTS5NENU.js\"></script>\n",
       "</div></body>\n",
       "</html>"
      ]
     },
     "execution_count": 32,
     "metadata": {},
     "output_type": "execute_result"
    }
   ],
   "source": [
    "#verification of contents in soup\n",
    "soup"
   ]
  },
  {
   "cell_type": "code",
   "execution_count": 33,
   "id": "114409d6",
   "metadata": {},
   "outputs": [
    {
     "data": {
      "text/plain": [
       "30"
      ]
     },
     "execution_count": 33,
     "metadata": {},
     "output_type": "execute_result"
    }
   ],
   "source": [
    "contents  = soup.find_all('p')\n",
    "len(contents)"
   ]
  },
  {
   "cell_type": "code",
   "execution_count": 34,
   "id": "580f6294",
   "metadata": {},
   "outputs": [],
   "source": [
    "news_contents = []\n",
    "list_paragraphs = []\n",
    "for p in np.arange(0,len(contents)):\n",
    "    paragraph = contents[p].get_text()\n",
    "    list_paragraphs.append(paragraph)\n",
    "    final_article = \"\".join(list_paragraphs)\n",
    "news_contents.append(final_article)\n"
   ]
  },
  {
   "cell_type": "code",
   "execution_count": 35,
   "id": "54a2d19e",
   "metadata": {},
   "outputs": [
    {
     "data": {
      "text/plain": [
       "'\\nJump to navigation\\n\\n\\t\\tThere are over three million articles about autonomous vehicles. Here are seven worthy of every official’s attention. \\xa0\\n\\t\\tThe future is getting closer to the present every day as vehicle manufacturers and tech companies race to deliver autonomous vehicles to the masses. Some view this Jetsons-like future as the next wave of human advancement, while others are more skeptical. Whatever your viewpoint, this emerging technology will impact our cities.\\n\\t\\tMany are writing about autonomous vehicles, but what articles should we be paying attention to? We put together a list of seven articles that give you a solid understanding of the state of autonomous vehicles today.\\nINFOGRAPHIC: Everything you need to know about autonomous vehicles\\n\\t\\tBusiness Insider | Jeff Desjardins\\n\\t\\tFor the uninitiated, this article, which includes an in-depth infographic, gives a good foundation by explaining the background, history and mechanics of autonomous vehicles. You will find out how the technologies work, the technical challenges vehicles have overcome and how they may evolve in the near future.\\xa0\\nA Timeline of When Self-Driving Cars Will be on the Road, According to the People Making Them\\n\\t\\tQuartz | Sarah Kessler\\n\\t\\tWhen will this technology make it to the masses? That depends on who you ask and how they define “autonomous.” This article provides a timeline of predictions from major players in the autonomous vehicle realm: car manufacturers, tech companies and others. The timelines, which come from Tesla, Toyota, Lyft, Uber and Ford, differ greatly, but provide insight into how speculative such predictions can be. Some say they’re already here. Others say they won’t get here until 2035. In the article, Kessler writes, “The consequences of that timeline are huge—self-driving vehicles could replace 3 million US jobs, change city infrastructure, and upend the average commute—but actually pinning it down is difficult.”\\xa0\\nReceive great insight like this monthly\\nSubscribe\\nAmerican Cities Are Nowhere Near Ready for Self-Driving Cars\\n\\t\\tWired | Eric Adams\\n\\t\\tThe short answer, according to the author: no. Only six percent of transportation plans in major U.S. cities are taking into account the potential impact of driverless cars. The article posits that while cities have a lot of work to do to integrate the technology into their infrastructure, what’s really stalling progress is a general lack of understanding of the capabilities of driverless cars. With so much in the air regarding the technology itself, how do cities plan?\\xa0\\n\\t\\tFor example, will congestion decrease as more people opt for ride sharing via autonomous vehicles? Or will cars become cheaper than ever, making roadways more congested than before? The good news, a few organizations, such as the Driverless Cities Project, are taking the lead and planning for the inevitability of this technology, and they have some interesting revelations.\\nHere’s How Self-Driving Cars Will Transform Your City\\n\\t\\tWired | Sam Lubell\\n\\t\\tFrom the complete transformation of urban cores to the policy that will surround our new world, this article brings together thought leaders from many disciplines: city planners and project managers, MIT directors, authors and National League of Cities officials. In it, Brooks Rainwater, Senior Executive Director, Center For City Solutions, National League of Cities, says, “Through technology you can get to a point where you no longer need traffic lights or clear distinctions between roads and sidewalks. Our cities will be more data intense and human-centered.”\\xa0\\n\\t\\tAnother revelation in this article comes from Anthony Townsend, author of \"Smart Cities: Big Data, Civic Hackers, and the Quest for a New Utopia,\" who points out that we’ve been focusing most of our attention on the average commuter, but we need to remember other vehicles that, once automated, will transform our cities. \"It’s actually trash trucks, trailers, delivery vans, taxis and other vehicles that take up much of the space in cities. They will be completely transformed by automated technologies,\" Townsend says.\\xa0\\nNational League of Cities’ Autonomous Vehicles Policy Preparation Guide\\n\\t\\tNational League of Cities | Center for City Solutions\\n\\t\\tUndoubtedly, this new technology will require writing new policies on both a state and federal level. How should these policies work together? Where should they differ? This 2017 guide provides a helpful framework for cities preparing for autonomous vehicles. One preparation cities need to make: putting together policies regarding data. Autonomous, connected vehicles will provide cities with lots of data. For example, a city could receive a real-time notification from a car once it hits a pothole, which could then inform public road maintenance programs. But what are the privacy issues? How will this data be kept secure? What will happen to it once it’s collected? All important questions.\\xa0\\nPreparing for a Future with Autonomous Vehicles\\n\\t\\tPolice Chief Magazine | Ken Davis, Captain, California Highway Patrol\\n\\t\\tThis article, written by Ken Davis, California Highway Patrol captain, offers a policing perspective on autonomous vehicles. He says although safety from common traffic incidents may increase exponentially, autonomous vehicles may also create new criminal applications, writing, “Autonomous vehicles will have a high impact on transforming what both law enforcement and its adversaries can operationally do with a car.” According to Davis, we still need a better understanding of new criminal applications (hacking into a vehicle operating system, for example), who has oversight (local, state or federal) and how police work around the lack of traffic stops, which will have a major financial impact.\\xa0\\nAs self-driving cars hit the road, real estate development may take new direction\\n\\t\\tPatrick Sisson | Curbed\\n\\t\\tThis article attempts to ask and answer many important questions surrounding planning, land use and land development, including:\\xa0\\n\\t\\tSisson warns of the potential for driverless cars to increase urban sprawl, writing, “as the perceived price of transportation decreases due to automation, it’ll be cheaper for developers to fund projects far from dense urban areas unless municipalities take the lead to incentivize infill development and perhaps even charge for vehicle-miles traveled as a way to make AV commutes less amenable.” Some think the impact on our cities will be as profound as when the automobile first hit the streets.\\n\\t\\tAutonomous vehicles are coming. There’s no doubt they will have a significant effect on how cities and towns operate. We can speculate on whether those effects will build up our cities, or whether they’ll have negative consequences. But one thing’s for certain: we need to prepare.At SEH, our people define us. You are the reason we lead the industry. Explore open positions, our culture and what “100% employee-owned” means for your career. Connect with your Recruitement Team.ConnectBrowse our library of eBooks, case studies, infographics and more. Available for free download, these tools tackle your most pressing project challenges.DiscoverSubscribe to Monthly InsightJoin Our Social CommunitiesEngineers | Architects | Planners | Scientists\\n        Building a Better World for All of Us®\\n        800.325.2055\\n        ©2021 Short Elliott Hendrickson Inc.'"
      ]
     },
     "execution_count": 35,
     "metadata": {},
     "output_type": "execute_result"
    }
   ],
   "source": [
    "News_contents= news_contents[0]\n",
    "News_contents"
   ]
  },
  {
   "cell_type": "markdown",
   "id": "5af776f5",
   "metadata": {},
   "source": [
    "<h3>Text cleaning and preparation</h3>"
   ]
  },
  {
   "cell_type": "code",
   "execution_count": 49,
   "id": "a8ca64b2",
   "metadata": {},
   "outputs": [],
   "source": [
    "#replacing \"'s'\",\"\\r\",\"\\n\"\n",
    "# \" when quoting text\n",
    "\n",
    "News_contents.replace(\"'s\", \"\")\n",
    "df = pd.DataFrame({News_contents})\n",
    "df['Content'] = News_contents\n",
    "df['Content_Parsed_1'] =(((((News_contents.replace(\"\\r\", \" \")).replace(\"\\n\", \" \")).replace(\"    \", \" \")).replace('\"', '')).replace(\"\\t\", \" \"))\n",
    "df['Content_Parsed_2'] = df['Content_Parsed_1'].str.lower()"
   ]
  },
  {
   "cell_type": "code",
   "execution_count": 50,
   "id": "1938f286",
   "metadata": {},
   "outputs": [
    {
     "name": "stderr",
     "output_type": "stream",
     "text": [
      "<ipython-input-50-161e18e11517>:6: FutureWarning: The default value of regex will change from True to False in a future version. In addition, single character regular expressions will*not* be treated as literal strings when regex=True.\n",
      "  df['Content_Parsed_3'] = df['Content_Parsed_3'].str.replace(punct_sign, '')\n"
     ]
    }
   ],
   "source": [
    "# Removing punctuation\n",
    "punctuation_signs = list(\"?:!.,;\")\n",
    "df['Content_Parsed_3'] = df['Content_Parsed_2']\n",
    "\n",
    "for punct_sign in punctuation_signs:\n",
    "    df['Content_Parsed_3'] = df['Content_Parsed_3'].str.replace(punct_sign, '')"
   ]
  },
  {
   "cell_type": "code",
   "execution_count": 51,
   "id": "07abef0a",
   "metadata": {},
   "outputs": [],
   "source": [
    "# Removing possessive pronouns\n",
    "df['Content_Parsed_4'] = df['Content_Parsed_3'].str.replace(\"'s\", \"\")"
   ]
  },
  {
   "cell_type": "markdown",
   "id": "ad4bd305",
   "metadata": {},
   "source": [
    "<h3>Stemming and Lemmatization</h3>"
   ]
  },
  {
   "cell_type": "code",
   "execution_count": 52,
   "id": "21657ed1",
   "metadata": {},
   "outputs": [],
   "source": [
    "# Saving the lemmatizer into an object\n",
    "wordnet_lemmatizer = WordNetLemmatizer()"
   ]
  },
  {
   "cell_type": "code",
   "execution_count": 53,
   "id": "bfed3a2f",
   "metadata": {},
   "outputs": [],
   "source": [
    "nrows = len(df)\n",
    "lemmatized_text_list = []\n",
    "\n",
    "for row in range(0, nrows):\n",
    "    \n",
    "    # Create an empty list containing lemmatized words\n",
    "    lemmatized_list = []\n",
    "    \n",
    "    # Save the text and its words into an object\n",
    "    text = df.loc[row]['Content_Parsed_4']\n",
    "    text_words = text.split(\" \")\n",
    "\n",
    "    # Iterate through every word to lemmatize\n",
    "    for word in text_words:\n",
    "        lemmatized_list.append(wordnet_lemmatizer.lemmatize(word, pos=\"v\"))\n",
    "        \n",
    "    # Join the list\n",
    "    lemmatized_text = \" \".join(lemmatized_list)\n",
    "    \n",
    "    # Append to the list containing the texts\n",
    "    lemmatized_text_list.append(lemmatized_text)"
   ]
  },
  {
   "cell_type": "code",
   "execution_count": 54,
   "id": "414b45fd",
   "metadata": {},
   "outputs": [],
   "source": [
    "df['Content_Parsed_5'] = lemmatized_text_list"
   ]
  },
  {
   "cell_type": "code",
   "execution_count": 55,
   "id": "2ecccaa6",
   "metadata": {},
   "outputs": [],
   "source": [
    "# Loading the stop words in english\n",
    "stop_words = list(stopwords.words('english'))"
   ]
  },
  {
   "cell_type": "code",
   "execution_count": 56,
   "id": "a11e7b76",
   "metadata": {},
   "outputs": [
    {
     "data": {
      "text/plain": [
       "['i', 'me', 'my', 'myself', 'we', 'our', 'ours', 'ourselves', 'you', \"you're\"]"
      ]
     },
     "execution_count": 56,
     "metadata": {},
     "output_type": "execute_result"
    }
   ],
   "source": [
    "stop_words[0:10]"
   ]
  },
  {
   "cell_type": "code",
   "execution_count": 57,
   "id": "c907cc98",
   "metadata": {},
   "outputs": [
    {
     "data": {
      "text/plain": [
       "'StopWord eating a meal'"
      ]
     },
     "execution_count": 57,
     "metadata": {},
     "output_type": "execute_result"
    }
   ],
   "source": [
    "example = \"me eating a meal\"\n",
    "word = \"me\"\n",
    "\n",
    "# The regular expression is:\n",
    "regex = r\"\\b\" + word + r\"\\b\"  # we need to build it like that to work properly\n",
    "\n",
    "re.sub(regex, \"StopWord\", example)"
   ]
  },
  {
   "cell_type": "code",
   "execution_count": 58,
   "id": "9db74592",
   "metadata": {},
   "outputs": [
    {
     "name": "stderr",
     "output_type": "stream",
     "text": [
      "<ipython-input-58-3b7196a1b53b>:6: FutureWarning: The default value of regex will change from True to False in a future version.\n",
      "  df['Content_Parsed_6'] = df['Content_Parsed_6'].str.replace(regex_stopword, '')\n"
     ]
    }
   ],
   "source": [
    "df['Content_Parsed_6'] = df['Content_Parsed_5']\n",
    "\n",
    "for stop_word in stop_words:\n",
    "\n",
    "    regex_stopword = r\"\\b\" + stop_word + r\"\\b\"\n",
    "    df['Content_Parsed_6'] = df['Content_Parsed_6'].str.replace(regex_stopword, '')"
   ]
  },
  {
   "cell_type": "code",
   "execution_count": 59,
   "id": "500e261f",
   "metadata": {},
   "outputs": [
    {
     "data": {
      "text/html": [
       "<div>\n",
       "<style scoped>\n",
       "    .dataframe tbody tr th:only-of-type {\n",
       "        vertical-align: middle;\n",
       "    }\n",
       "\n",
       "    .dataframe tbody tr th {\n",
       "        vertical-align: top;\n",
       "    }\n",
       "\n",
       "    .dataframe thead th {\n",
       "        text-align: right;\n",
       "    }\n",
       "</style>\n",
       "<table border=\"1\" class=\"dataframe\">\n",
       "  <thead>\n",
       "    <tr style=\"text-align: right;\">\n",
       "      <th></th>\n",
       "      <th>0</th>\n",
       "      <th>Content</th>\n",
       "      <th>Content_Parsed_1</th>\n",
       "      <th>Content_Parsed_2</th>\n",
       "      <th>Content_Parsed_3</th>\n",
       "      <th>Content_Parsed_4</th>\n",
       "      <th>Content_Parsed_5</th>\n",
       "      <th>Content_Parsed_6</th>\n",
       "    </tr>\n",
       "  </thead>\n",
       "  <tbody>\n",
       "    <tr>\n",
       "      <th>0</th>\n",
       "      <td>\\nJump to navigation\\n\\n\\t\\tThere are over thr...</td>\n",
       "      <td>\\nJump to navigation\\n\\n\\t\\tThere are over thr...</td>\n",
       "      <td>Jump to navigation    There are over three mi...</td>\n",
       "      <td>jump to navigation    there are over three mi...</td>\n",
       "      <td>jump to navigation    there are over three mi...</td>\n",
       "      <td>jump to navigation    there are over three mi...</td>\n",
       "      <td>jump to navigation    there be over three mil...</td>\n",
       "      <td>jump  navigation       three million article ...</td>\n",
       "    </tr>\n",
       "  </tbody>\n",
       "</table>\n",
       "</div>"
      ],
      "text/plain": [
       "                                                   0  \\\n",
       "0  \\nJump to navigation\\n\\n\\t\\tThere are over thr...   \n",
       "\n",
       "                                             Content  \\\n",
       "0  \\nJump to navigation\\n\\n\\t\\tThere are over thr...   \n",
       "\n",
       "                                    Content_Parsed_1  \\\n",
       "0   Jump to navigation    There are over three mi...   \n",
       "\n",
       "                                    Content_Parsed_2  \\\n",
       "0   jump to navigation    there are over three mi...   \n",
       "\n",
       "                                    Content_Parsed_3  \\\n",
       "0   jump to navigation    there are over three mi...   \n",
       "\n",
       "                                    Content_Parsed_4  \\\n",
       "0   jump to navigation    there are over three mi...   \n",
       "\n",
       "                                    Content_Parsed_5  \\\n",
       "0   jump to navigation    there be over three mil...   \n",
       "\n",
       "                                    Content_Parsed_6  \n",
       "0   jump  navigation       three million article ...  "
      ]
     },
     "execution_count": 59,
     "metadata": {},
     "output_type": "execute_result"
    }
   ],
   "source": [
    "df.head(1)"
   ]
  },
  {
   "cell_type": "code",
   "execution_count": 60,
   "id": "2efdae64",
   "metadata": {},
   "outputs": [],
   "source": [
    "list_columns = [\"Content_Parsed_6\"]\n",
    "df = df[list_columns]\n",
    "\n",
    "df = df.rename(columns={'Content_Parsed_6': 'Content_Parsed'})"
   ]
  },
  {
   "cell_type": "code",
   "execution_count": 61,
   "id": "560ad783",
   "metadata": {},
   "outputs": [],
   "source": [
    "X_new= df['Content_Parsed']"
   ]
  },
  {
   "cell_type": "code",
   "execution_count": 62,
   "id": "4b1f3b18",
   "metadata": {},
   "outputs": [
    {
     "name": "stderr",
     "output_type": "stream",
     "text": [
      "C:\\ProgramData\\Anaconda3\\lib\\site-packages\\sklearn\\base.py:310: UserWarning: Trying to unpickle estimator MultinomialNB from version 0.19.1 when using version 0.24.1. This might lead to breaking code or invalid results. Use at your own risk.\n",
      "  warnings.warn(\n"
     ]
    }
   ],
   "source": [
    "\n",
    "loaded_model= pickle.load(open('C:\\\\Users\\\\RAJESH NEMANI\\\\OneDrive\\\\Documents\\\\FeatureEngineering\\\\ICE_1\\\\0. Latest News Classifier\\\\04. Model Training\\\\Models\\\\best_mnbc.pickle','rb'))\n",
    "X_train =pickle.load(open('C:\\\\Users\\\\RAJESH NEMANI\\\\OneDrive\\\\Documents\\\\FeatureEngineering\\\\ICE_1\\\\0. Latest News Classifier\\\\03. Feature Engineering\\\\Pickles/X_train.pickle','rb'))\n",
    "y_train =pickle.load(open('C:\\\\Users\\\\RAJESH NEMANI\\\\OneDrive\\\\Documents\\\\FeatureEngineering\\\\ICE_1\\\\0. Latest News Classifier\\\\03. Feature Engineering\\\\Pickles/y_train.pickle','rb'))\n"
   ]
  },
  {
   "cell_type": "code",
   "execution_count": 63,
   "id": "c76be93e",
   "metadata": {},
   "outputs": [],
   "source": [
    "# Parameter election\n",
    "ngram_range = (1,2)\n",
    "min_df = 10\n",
    "max_df = 1.\n",
    "max_features = 300"
   ]
  },
  {
   "cell_type": "code",
   "execution_count": 64,
   "id": "741dccb6",
   "metadata": {},
   "outputs": [
    {
     "name": "stdout",
     "output_type": "stream",
     "text": [
      "(1891, 300)\n",
      "(1, 300)\n"
     ]
    }
   ],
   "source": [
    "tfidf = TfidfVectorizer(encoding='utf-8',\n",
    "                        ngram_range=ngram_range,\n",
    "                        stop_words=None,\n",
    "                        lowercase=False,\n",
    "                        max_df=max_df,\n",
    "                        min_df=min_df,\n",
    "                        max_features=max_features,\n",
    "                        norm='l2',\n",
    "                        sublinear_tf=True)\n",
    "                        \n",
    "features_train = tfidf.fit_transform(X_train).toarray()\n",
    "labels_train = y_train\n",
    "print(features_train.shape)\n",
    "\n",
    "features_new = tfidf.transform(X_new).toarray()\n",
    "print(features_new.shape)"
   ]
  },
  {
   "cell_type": "code",
   "execution_count": 65,
   "id": "f70f4225",
   "metadata": {},
   "outputs": [
    {
     "data": {
      "text/plain": [
       "array([[0.        , 0.        , 0.        , 0.        , 0.        ,\n",
       "        0.14730914, 0.        , 0.        , 0.        , 0.        ,\n",
       "        0.06817927, 0.03816566, 0.07604947, 0.        , 0.07078869,\n",
       "        0.07202419, 0.12804639, 0.        , 0.        , 0.        ,\n",
       "        0.        , 0.        , 0.        , 0.        , 0.0669721 ,\n",
       "        0.        , 0.        , 0.        , 0.1268215 , 0.07285275,\n",
       "        0.        , 0.        , 0.        , 0.        , 0.        ,\n",
       "        0.07449884, 0.        , 0.        , 0.        , 0.13627142,\n",
       "        0.07648015, 0.        , 0.        , 0.        , 0.0789949 ,\n",
       "        0.        , 0.06825673, 0.08100137, 0.06944917, 0.        ,\n",
       "        0.        , 0.        , 0.        , 0.10273025, 0.10136469,\n",
       "        0.        , 0.        , 0.        , 0.        , 0.        ,\n",
       "        0.09916203, 0.        , 0.        , 0.        , 0.07680821,\n",
       "        0.        , 0.2316774 , 0.07139863, 0.        , 0.        ,\n",
       "        0.        , 0.        , 0.        , 0.07332549, 0.        ,\n",
       "        0.        , 0.        , 0.        , 0.        , 0.        ,\n",
       "        0.        , 0.        , 0.        , 0.        , 0.06682532,\n",
       "        0.1308    , 0.0789949 , 0.        , 0.        , 0.        ,\n",
       "        0.        , 0.07594298, 0.        , 0.        , 0.        ,\n",
       "        0.        , 0.06229629, 0.        , 0.0486366 , 0.        ,\n",
       "        0.        , 0.        , 0.        , 0.        , 0.        ,\n",
       "        0.        , 0.18122231, 0.        , 0.07541737, 0.10214239,\n",
       "        0.09190778, 0.        , 0.10890928, 0.        , 0.07552159,\n",
       "        0.        , 0.        , 0.        , 0.        , 0.        ,\n",
       "        0.        , 0.        , 0.06928678, 0.14195807, 0.        ,\n",
       "        0.        , 0.        , 0.        , 0.        , 0.        ,\n",
       "        0.05662475, 0.12303454, 0.07863636, 0.        , 0.07139863,\n",
       "        0.        , 0.        , 0.        , 0.06856907, 0.07840022,\n",
       "        0.07184382, 0.06223557, 0.        , 0.        , 0.        ,\n",
       "        0.        , 0.        , 0.08671782, 0.13402896, 0.        ,\n",
       "        0.        , 0.        , 0.07805024, 0.        , 0.0974546 ,\n",
       "        0.        , 0.        , 0.08420894, 0.        , 0.        ,\n",
       "        0.        , 0.        , 0.        , 0.        , 0.12894405,\n",
       "        0.        , 0.10311461, 0.12393477, 0.        , 0.        ,\n",
       "        0.14909416, 0.06920598, 0.        , 0.        , 0.11913347,\n",
       "        0.        , 0.        , 0.        , 0.        , 0.        ,\n",
       "        0.        , 0.        , 0.        , 0.10599471, 0.        ,\n",
       "        0.        , 0.18570063, 0.        , 0.16486898, 0.        ,\n",
       "        0.        , 0.13097624, 0.06787184, 0.05868567, 0.        ,\n",
       "        0.0684124 , 0.        , 0.        , 0.07148759, 0.        ,\n",
       "        0.06631839, 0.        , 0.        , 0.07390513, 0.10362487,\n",
       "        0.        , 0.        , 0.1462417 , 0.        , 0.        ,\n",
       "        0.07490282, 0.11842367, 0.        , 0.        , 0.07948128,\n",
       "        0.        , 0.        , 0.09374879, 0.18680628, 0.07096141,\n",
       "        0.11015818, 0.        , 0.13605533, 0.07648015, 0.        ,\n",
       "        0.        , 0.        , 0.        , 0.        , 0.        ,\n",
       "        0.        , 0.        , 0.        , 0.        , 0.        ,\n",
       "        0.06563534, 0.        , 0.        , 0.        , 0.        ,\n",
       "        0.        , 0.        , 0.        , 0.        , 0.07294657,\n",
       "        0.        , 0.        , 0.        , 0.        , 0.07010975,\n",
       "        0.        , 0.        , 0.        , 0.        , 0.        ,\n",
       "        0.15210958, 0.06193421, 0.        , 0.08087102, 0.11130126,\n",
       "        0.        , 0.        , 0.        , 0.22857686, 0.        ,\n",
       "        0.        , 0.        , 0.        , 0.09669838, 0.        ,\n",
       "        0.05619471, 0.04514384, 0.        , 0.        , 0.        ,\n",
       "        0.        , 0.        , 0.        , 0.        , 0.        ,\n",
       "        0.        , 0.1155656 , 0.05397753, 0.        , 0.        ,\n",
       "        0.        , 0.        , 0.        , 0.07770519, 0.05884352,\n",
       "        0.        , 0.        , 0.        , 0.        , 0.1316621 ,\n",
       "        0.09124568, 0.        , 0.        , 0.        , 0.        ]])"
      ]
     },
     "execution_count": 65,
     "metadata": {},
     "output_type": "execute_result"
    }
   ],
   "source": [
    "features_new"
   ]
  },
  {
   "cell_type": "code",
   "execution_count": 67,
   "id": "087c75d9",
   "metadata": {},
   "outputs": [
    {
     "data": {
      "text/plain": [
       "array([4], dtype=int64)"
      ]
     },
     "execution_count": 67,
     "metadata": {},
     "output_type": "execute_result"
    }
   ],
   "source": [
    "loaded_model.predict(features_new)"
   ]
  },
  {
   "cell_type": "code",
   "execution_count": null,
   "id": "a3bec49e",
   "metadata": {},
   "outputs": [],
   "source": []
  },
  {
   "cell_type": "code",
   "execution_count": null,
   "id": "84f4d761",
   "metadata": {},
   "outputs": [],
   "source": []
  }
 ],
 "metadata": {
  "kernelspec": {
   "display_name": "Python 3",
   "language": "python",
   "name": "python3"
  },
  "language_info": {
   "codemirror_mode": {
    "name": "ipython",
    "version": 3
   },
   "file_extension": ".py",
   "mimetype": "text/x-python",
   "name": "python",
   "nbconvert_exporter": "python",
   "pygments_lexer": "ipython3",
   "version": "3.8.8"
  }
 },
 "nbformat": 4,
 "nbformat_minor": 5
}
